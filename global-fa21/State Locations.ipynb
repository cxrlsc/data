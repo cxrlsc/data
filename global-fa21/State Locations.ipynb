{
 "cells": [
  {
   "cell_type": "code",
   "execution_count": 1,
   "id": "ddc6f5be",
   "metadata": {},
   "outputs": [],
   "source": [
    "import pandas as pd\n",
    "import numpy as np\n",
    "from datascience import *"
   ]
  },
  {
   "cell_type": "code",
   "execution_count": 5,
   "id": "e6c321c4",
   "metadata": {},
   "outputs": [
    {
     "data": {
      "text/html": [
       "<table border=\"1\" class=\"dataframe\">\n",
       "    <thead>\n",
       "        <tr>\n",
       "            <th>State/UT</th> <th>Latitude (N)</th> <th>Longitude (E)</th>\n",
       "        </tr>\n",
       "    </thead>\n",
       "    <tbody>\n",
       "        <tr>\n",
       "            <td>Andaman and Nicobar</td> <td>11.7401     </td> <td>92.6586      </td>\n",
       "        </tr>\n",
       "        <tr>\n",
       "            <td>Andhra Pradesh     </td> <td>15.9129     </td> <td>79.74        </td>\n",
       "        </tr>\n",
       "        <tr>\n",
       "            <td>Arunachal Pradesh  </td> <td>28.218      </td> <td>94.7278      </td>\n",
       "        </tr>\n",
       "        <tr>\n",
       "            <td>Assam              </td> <td>26.2006     </td> <td>92.937       </td>\n",
       "        </tr>\n",
       "        <tr>\n",
       "            <td>Bihar              </td> <td>25.0961     </td> <td>85.313       </td>\n",
       "        </tr>\n",
       "        <tr>\n",
       "            <td>Chandigarh         </td> <td>30.7333     </td> <td>76.7794      </td>\n",
       "        </tr>\n",
       "        <tr>\n",
       "            <td>Chhattisgarh       </td> <td>21.2787     </td> <td>81.8661      </td>\n",
       "        </tr>\n",
       "        <tr>\n",
       "            <td>Daman and Diu      </td> <td>20.227      </td> <td>73.0169      </td>\n",
       "        </tr>\n",
       "        <tr>\n",
       "            <td>Delhi              </td> <td>28.7041     </td> <td>77.1025      </td>\n",
       "        </tr>\n",
       "        <tr>\n",
       "            <td>Goa                </td> <td>15.2993     </td> <td>74.124       </td>\n",
       "        </tr>\n",
       "    </tbody>\n",
       "</table>\n",
       "<p>... (24 rows omitted)</p>"
      ],
      "text/plain": [
       "State/UT            | Latitude (N) | Longitude (E)\n",
       "Andaman and Nicobar | 11.7401      | 92.6586\n",
       "Andhra Pradesh      | 15.9129      | 79.74\n",
       "Arunachal Pradesh   | 28.218       | 94.7278\n",
       "Assam               | 26.2006      | 92.937\n",
       "Bihar               | 25.0961      | 85.313\n",
       "Chandigarh          | 30.7333      | 76.7794\n",
       "Chhattisgarh        | 21.2787      | 81.8661\n",
       "Daman and Diu       | 20.227       | 73.0169\n",
       "Delhi               | 28.7041      | 77.1025\n",
       "Goa                 | 15.2993      | 74.124\n",
       "... (24 rows omitted)"
      ]
     },
     "execution_count": 5,
     "metadata": {},
     "output_type": "execute_result"
    }
   ],
   "source": [
    "state_locations = Table().with_columns(\n",
    "    \"State/UT\", make_array('Andaman and Nicobar', 'Andhra Pradesh', 'Arunachal Pradesh', 'Assam', 'Bihar',\n",
    "                             'Chandigarh', 'Chhattisgarh', 'Daman and Diu', 'Delhi', 'Goa', 'Gujarat', 'Haryana',\n",
    "                             'Himachal Pradesh', 'Jammu and Kashmir', 'Jharkhand', 'Karnataka', 'Kerala', 'Lakshadweep',\n",
    "                             'Madhya Pradesh', 'Maharashtra', 'Manipur', 'Meghalaya', 'Mizoram', 'Nagaland', 'Orissa',\n",
    "                             'Puducherry', 'Punjab', 'Rajasthan', 'Sikkim', 'Tamil Nadu', 'Tripura', 'Uttar Pradesh',\n",
    "                             'Uttaranchal', 'West Bengal'), \n",
    "    \"Latitude (N)\", make_array(11.7401, 15.9129, 28.2180, 26.2006, 25.0961, 30.7333, 21.2787, 20.2270, 28.7041,\n",
    "                              15.2993, 22.2587, 29.0588, 31.1048, 33.2778, 23.6102, 15.3173, 10.8505, 10.5593,\n",
    "                              22.9734, 19.7515, 24.6637, 25.4670, 23.1645, 26.1584, 20.9517, 11.9416, 31.1471,\n",
    "                              27.0238, 27.5330, 11.1271, 23.9408, 26.8467, 30.0668, 22.9868), \n",
    "    \"Longitude (E)\", make_array(92.6586, 79.7400, 94.7278, 92.937, 85.313, 76.7794, 81.8661, 73.0169, 77.1025,\n",
    "                               74.124, 71.1924, 76.0856, 77.1734, 75.3412, 85.2799, 75.7139, 76.2711, 72.6358,\n",
    "                               78.6569, 75.7139, 93.9063, 91.3662, 92.9376, 94.5624, 85.0985, 79.8083, 75.3412,\n",
    "                               74.2179, 88.5122, 78.6569, 91.9882, 80.9462, 79.0193, 87.8550))\n",
    "\n",
    "state_locations"
   ]
  },
  {
   "cell_type": "code",
   "execution_count": 10,
   "id": "279424a8",
   "metadata": {},
   "outputs": [],
   "source": [
    "state_locations.to_csv(\"State Locations.csv\")"
   ]
  }
 ],
 "metadata": {
  "kernelspec": {
   "display_name": "Python 3",
   "language": "python",
   "name": "python3"
  },
  "language_info": {
   "codemirror_mode": {
    "name": "ipython",
    "version": 3
   },
   "file_extension": ".py",
   "mimetype": "text/x-python",
   "name": "python",
   "nbconvert_exporter": "python",
   "pygments_lexer": "ipython3",
   "version": "3.8.8"
  }
 },
 "nbformat": 4,
 "nbformat_minor": 5
}
